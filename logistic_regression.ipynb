{
 "cells": [
  {
   "cell_type": "markdown",
   "id": "korean-wednesday",
   "metadata": {},
   "source": [
    "# Logistic Regression\n",
    "You should build a machine learning pipeline using a logistic regression model. In particular, you should do the following:\n",
    "- Load the `mnist` dataset using [Pandas](https://pandas.pydata.org/docs/reference/api/pandas.read_csv.html). You can find this dataset in the datasets folder.\n",
    "- Split the dataset into training and test sets using [Scikit-Learn](https://scikit-learn.org/stable/modules/generated/sklearn.model_selection.train_test_split.html). \n",
    "- Train and test a logistic regression model using [Scikit-Learn](https://scikit-learn.org/stable/modules/generated/sklearn.linear_model.LogisticRegression.html).\n",
    "- Check the documentation to identify the most important hyperparameters, attributes, and methods of the model. Use them in practice."
   ]
  },
  {
   "cell_type": "markdown",
   "id": "8d4ead5f",
   "metadata": {},
   "source": [
    "## Import libraries"
   ]
  },
  {
   "cell_type": "code",
   "execution_count": 13,
   "id": "infrared-copper",
   "metadata": {},
   "outputs": [],
   "source": [
    "import pandas as pd\n",
    "import sklearn.model_selection\n",
    "import sklearn.linear_model\n",
    "import sklearn.metrics"
   ]
  },
  {
   "cell_type": "markdown",
   "id": "06822340",
   "metadata": {},
   "source": [
    "## Import dataset"
   ]
  },
  {
   "cell_type": "code",
   "execution_count": 14,
   "id": "debb8857",
   "metadata": {},
   "outputs": [
    {
     "data": {
      "text/html": [
       "<div>\n",
       "<style scoped>\n",
       "    .dataframe tbody tr th:only-of-type {\n",
       "        vertical-align: middle;\n",
       "    }\n",
       "\n",
       "    .dataframe tbody tr th {\n",
       "        vertical-align: top;\n",
       "    }\n",
       "\n",
       "    .dataframe thead th {\n",
       "        text-align: right;\n",
       "    }\n",
       "</style>\n",
       "<table border=\"1\" class=\"dataframe\">\n",
       "  <thead>\n",
       "    <tr style=\"text-align: right;\">\n",
       "      <th></th>\n",
       "      <th>class</th>\n",
       "      <th>pixel1</th>\n",
       "      <th>pixel2</th>\n",
       "      <th>pixel3</th>\n",
       "      <th>pixel4</th>\n",
       "      <th>pixel5</th>\n",
       "      <th>pixel6</th>\n",
       "      <th>pixel7</th>\n",
       "      <th>pixel8</th>\n",
       "      <th>pixel9</th>\n",
       "      <th>...</th>\n",
       "      <th>pixel775</th>\n",
       "      <th>pixel776</th>\n",
       "      <th>pixel777</th>\n",
       "      <th>pixel778</th>\n",
       "      <th>pixel779</th>\n",
       "      <th>pixel780</th>\n",
       "      <th>pixel781</th>\n",
       "      <th>pixel782</th>\n",
       "      <th>pixel783</th>\n",
       "      <th>pixel784</th>\n",
       "    </tr>\n",
       "    <tr>\n",
       "      <th>id</th>\n",
       "      <th></th>\n",
       "      <th></th>\n",
       "      <th></th>\n",
       "      <th></th>\n",
       "      <th></th>\n",
       "      <th></th>\n",
       "      <th></th>\n",
       "      <th></th>\n",
       "      <th></th>\n",
       "      <th></th>\n",
       "      <th></th>\n",
       "      <th></th>\n",
       "      <th></th>\n",
       "      <th></th>\n",
       "      <th></th>\n",
       "      <th></th>\n",
       "      <th></th>\n",
       "      <th></th>\n",
       "      <th></th>\n",
       "      <th></th>\n",
       "      <th></th>\n",
       "    </tr>\n",
       "  </thead>\n",
       "  <tbody>\n",
       "    <tr>\n",
       "      <th>31953</th>\n",
       "      <td>5</td>\n",
       "      <td>0</td>\n",
       "      <td>0</td>\n",
       "      <td>0</td>\n",
       "      <td>0</td>\n",
       "      <td>0</td>\n",
       "      <td>0</td>\n",
       "      <td>0</td>\n",
       "      <td>0</td>\n",
       "      <td>0</td>\n",
       "      <td>...</td>\n",
       "      <td>0</td>\n",
       "      <td>0</td>\n",
       "      <td>0</td>\n",
       "      <td>0</td>\n",
       "      <td>0</td>\n",
       "      <td>0</td>\n",
       "      <td>0</td>\n",
       "      <td>0</td>\n",
       "      <td>0</td>\n",
       "      <td>0</td>\n",
       "    </tr>\n",
       "    <tr>\n",
       "      <th>34452</th>\n",
       "      <td>8</td>\n",
       "      <td>0</td>\n",
       "      <td>0</td>\n",
       "      <td>0</td>\n",
       "      <td>0</td>\n",
       "      <td>0</td>\n",
       "      <td>0</td>\n",
       "      <td>0</td>\n",
       "      <td>0</td>\n",
       "      <td>0</td>\n",
       "      <td>...</td>\n",
       "      <td>0</td>\n",
       "      <td>0</td>\n",
       "      <td>0</td>\n",
       "      <td>0</td>\n",
       "      <td>0</td>\n",
       "      <td>0</td>\n",
       "      <td>0</td>\n",
       "      <td>0</td>\n",
       "      <td>0</td>\n",
       "      <td>0</td>\n",
       "    </tr>\n",
       "    <tr>\n",
       "      <th>60897</th>\n",
       "      <td>5</td>\n",
       "      <td>0</td>\n",
       "      <td>0</td>\n",
       "      <td>0</td>\n",
       "      <td>0</td>\n",
       "      <td>0</td>\n",
       "      <td>0</td>\n",
       "      <td>0</td>\n",
       "      <td>0</td>\n",
       "      <td>0</td>\n",
       "      <td>...</td>\n",
       "      <td>0</td>\n",
       "      <td>0</td>\n",
       "      <td>0</td>\n",
       "      <td>0</td>\n",
       "      <td>0</td>\n",
       "      <td>0</td>\n",
       "      <td>0</td>\n",
       "      <td>0</td>\n",
       "      <td>0</td>\n",
       "      <td>0</td>\n",
       "    </tr>\n",
       "    <tr>\n",
       "      <th>36953</th>\n",
       "      <td>0</td>\n",
       "      <td>0</td>\n",
       "      <td>0</td>\n",
       "      <td>0</td>\n",
       "      <td>0</td>\n",
       "      <td>0</td>\n",
       "      <td>0</td>\n",
       "      <td>0</td>\n",
       "      <td>0</td>\n",
       "      <td>0</td>\n",
       "      <td>...</td>\n",
       "      <td>0</td>\n",
       "      <td>0</td>\n",
       "      <td>0</td>\n",
       "      <td>0</td>\n",
       "      <td>0</td>\n",
       "      <td>0</td>\n",
       "      <td>0</td>\n",
       "      <td>0</td>\n",
       "      <td>0</td>\n",
       "      <td>0</td>\n",
       "    </tr>\n",
       "    <tr>\n",
       "      <th>1981</th>\n",
       "      <td>3</td>\n",
       "      <td>0</td>\n",
       "      <td>0</td>\n",
       "      <td>0</td>\n",
       "      <td>0</td>\n",
       "      <td>0</td>\n",
       "      <td>0</td>\n",
       "      <td>0</td>\n",
       "      <td>0</td>\n",
       "      <td>0</td>\n",
       "      <td>...</td>\n",
       "      <td>0</td>\n",
       "      <td>0</td>\n",
       "      <td>0</td>\n",
       "      <td>0</td>\n",
       "      <td>0</td>\n",
       "      <td>0</td>\n",
       "      <td>0</td>\n",
       "      <td>0</td>\n",
       "      <td>0</td>\n",
       "      <td>0</td>\n",
       "    </tr>\n",
       "  </tbody>\n",
       "</table>\n",
       "<p>5 rows × 785 columns</p>\n",
       "</div>"
      ],
      "text/plain": [
       "       class  pixel1  pixel2  pixel3  pixel4  pixel5  pixel6  pixel7  pixel8  \\\n",
       "id                                                                             \n",
       "31953      5       0       0       0       0       0       0       0       0   \n",
       "34452      8       0       0       0       0       0       0       0       0   \n",
       "60897      5       0       0       0       0       0       0       0       0   \n",
       "36953      0       0       0       0       0       0       0       0       0   \n",
       "1981       3       0       0       0       0       0       0       0       0   \n",
       "\n",
       "       pixel9  ...  pixel775  pixel776  pixel777  pixel778  pixel779  \\\n",
       "id             ...                                                     \n",
       "31953       0  ...         0         0         0         0         0   \n",
       "34452       0  ...         0         0         0         0         0   \n",
       "60897       0  ...         0         0         0         0         0   \n",
       "36953       0  ...         0         0         0         0         0   \n",
       "1981        0  ...         0         0         0         0         0   \n",
       "\n",
       "       pixel780  pixel781  pixel782  pixel783  pixel784  \n",
       "id                                                       \n",
       "31953         0         0         0         0         0  \n",
       "34452         0         0         0         0         0  \n",
       "60897         0         0         0         0         0  \n",
       "36953         0         0         0         0         0  \n",
       "1981          0         0         0         0         0  \n",
       "\n",
       "[5 rows x 785 columns]"
      ]
     },
     "execution_count": 14,
     "metadata": {},
     "output_type": "execute_result"
    }
   ],
   "source": [
    "mnist_db = pd.read_csv('/Users/adolfomytr/Documents/Alemania/Master/GISMA/Materias/teaching-main/datasets/mnist.csv')\n",
    "mnist_db = mnist_db.set_index('id')\n",
    "mnist_db.head()"
   ]
  },
  {
   "cell_type": "markdown",
   "id": "7899da7e",
   "metadata": {},
   "source": [
    "## Split into training set and testing set\n",
    "\n",
    "- It is not a discrete variable the target value"
   ]
  },
  {
   "cell_type": "code",
   "execution_count": 15,
   "id": "a0317cd6",
   "metadata": {},
   "outputs": [
    {
     "name": "stdout",
     "output_type": "stream",
     "text": [
      "mnist_db (4000, 785)\n",
      "x_train (3000, 784)\n",
      "x_test (1000, 784)\n",
      "y_train (3000,)\n",
      "y_test (1000,)\n"
     ]
    }
   ],
   "source": [
    "x = mnist_db.drop(['class'], axis=1)\n",
    "y = mnist_db['class']\n",
    "x_train, x_test, y_train, y_test = sklearn.model_selection.train_test_split(x, y)\n",
    "\n",
    "print('mnist_db', mnist_db.shape)\n",
    "print('x_train', x_train.shape)\n",
    "print('x_test', x_test.shape)\n",
    "print('y_train', y_train.shape)\n",
    "print('y_test', y_test.shape)"
   ]
  },
  {
   "cell_type": "markdown",
   "id": "4720166a",
   "metadata": {},
   "source": [
    "## Train the model\n",
    "\n",
    "- We reached the limit of maximun iterations. What does that mean?\n",
    "    - We must increase the max iterations. Review documentation 10,000\n",
    "- What is the function to calculate the maximun likelihood? To validate that the algorithm is accurate?"
   ]
  },
  {
   "cell_type": "code",
   "execution_count": 16,
   "id": "6639f9dc",
   "metadata": {},
   "outputs": [
    {
     "data": {
      "text/plain": [
       "LogisticRegression(max_iter=5000)"
      ]
     },
     "execution_count": 16,
     "metadata": {},
     "output_type": "execute_result"
    }
   ],
   "source": [
    "model = sklearn.linear_model.LogisticRegression(max_iter=5000)\n",
    "model.fit(x_train, y_train)"
   ]
  },
  {
   "cell_type": "markdown",
   "id": "01eba978",
   "metadata": {},
   "source": [
    "## Test the model"
   ]
  },
  {
   "cell_type": "code",
   "execution_count": 17,
   "id": "ffb9507f",
   "metadata": {},
   "outputs": [
    {
     "name": "stdout",
     "output_type": "stream",
     "text": [
      "[1 7 3 7 2 7 7 7 4 1 3 0 6 9 8 8 8 7 9 8 7 5 7 1 4 5 0 4 8 6 6 4 7 1 0 5 5\n",
      " 0 1 0 5 4 5 0 7 1 0 6 2 0 9 5 3 1 2 0 9 8 3 3 2 2 0 4 9 8 8 1 1 5 3 3 2 9\n",
      " 5 9 7 1 6 0 1 8 3 2 1 6 6 2 7 2 8 8 8 1 8 4 1 0 2 9 6 5 5 3 0 9 9 2 0 3 7\n",
      " 4 0 2 5 2 6 0 1 6 3 1 2 5 0 3 6 7 5 4 0 7 6 8 6 8 8 0 7 8 4 2 8 5 1 0 3 0\n",
      " 4 9 7 4 9 9 8 8 7 3 8 9 4 3 1 8 1 1 6 7 5 1 8 7 7 0 1 0 8 9 6 1 8 2 3 0 4\n",
      " 7 4 2 1 7 2 1 1 5 3 1 4 7 1 4 0 6 7 0 1 6 4 9 2 2 5 7 9 0 6 2 4 1 8 0 6 0\n",
      " 3 4 6 1 6 6 7 0 0 4 7 6 7 8 1 7 2 8 5 9 8 4 5 1 3 6 8 7 6 4 9 9 5 8 9 6 3\n",
      " 2 3 2 0 6 3 8 7 4 3 3 3 2 7 1 7 9 8 4 3 4 6 7 7 2 8 3 6 2 7 2 3 2 4 5 9 2\n",
      " 1 7 7 1 7 9 7 6 9 9 0 7 1 2 4 6 5 1 1 3 4 4 7 1 4 1 2 4 6 8 6 8 1 2 7 3 5\n",
      " 8 6 8 1 5 5 8 9 3 6 0 1 3 0 1 0 4 3 2 6 2 8 9 0 2 7 3 9 0 0 4 0 2 4 2 8 2\n",
      " 7 9 7 5 8 2 1 0 1 2 6 1 5 4 4 7 9 0 3 9 5 7 7 6 8 4 0 1 4 8 5 6 9 4 8 4 2\n",
      " 6 3 9 4 9 3 4 6 6 5 1 7 2 5 8 6 0 0 4 4 4 4 4 0 0 1 9 6 2 7 2 6 1 6 8 6 9\n",
      " 9 2 6 6 9 5 5 2 5 3 2 2 2 3 2 7 9 2 0 6 5 6 3 7 6 0 5 1 1 9 2 3 1 5 4 2 6\n",
      " 6 9 3 4 9 3 3 0 4 2 7 8 1 2 2 1 4 9 1 0 8 2 6 3 3 9 5 3 9 9 5 2 4 8 4 5 7\n",
      " 0 8 8 1 5 4 5 0 4 6 6 4 6 0 9 9 0 2 8 3 9 7 9 9 2 6 1 5 8 4 3 9 6 9 1 4 7\n",
      " 3 8 9 1 3 5 4 9 0 7 3 5 7 6 1 5 4 5 6 8 8 8 2 4 8 3 9 1 8 6 0 7 1 9 9 8 4\n",
      " 0 6 0 5 8 5 1 6 4 9 6 9 6 8 8 1 3 1 1 8 7 6 9 5 6 1 1 2 1 3 5 1 1 7 8 2 2\n",
      " 3 1 4 8 3 1 2 6 5 2 3 5 6 7 1 9 0 8 0 3 1 5 9 7 2 8 7 2 3 7 6 1 1 4 5 6 3\n",
      " 6 7 3 5 3 3 1 1 0 0 9 3 4 2 5 4 9 1 1 5 5 2 3 7 9 8 6 9 1 6 3 6 9 8 9 2 5\n",
      " 2 6 0 6 5 6 8 5 7 3 6 3 8 4 7 7 3 2 1 2 9 2 0 5 6 8 0 4 7 1 1 0 4 1 2 3 9\n",
      " 6 0 4 6 3 7 1 2 9 1 3 5 0 8 7 6 8 0 1 4 3 2 0 2 1 9 9 7 0 2 4 2 1 7 6 4 4\n",
      " 4 3 0 1 7 1 0 1 2 9 3 3 7 7 2 2 0 7 1 9 8 2 0 8 3 5 8 8 1 5 2 6 5 6 0 1 9\n",
      " 5 0 1 9 8 5 4 4 7 8 1 6 1 3 9 7 1 9 3 4 6 1 9 8 7 8 7 7 8 5 4 1 5 2 6 8 5\n",
      " 7 9 7 9 7 2 1 3 8 9 6 2 6 3 1 8 8 6 5 0 5 5 4 1 7 2 9 8 6 4 9 0 9 1 3 7 0\n",
      " 7 7 3 8 2 2 6 3 3 7 1 4 3 1 9 5 7 7 2 7 8 6 6 0 8 6 9 0 4 8 5 6 1 7 8 6 8\n",
      " 3 7 4 8 4 5 9 4 0 4 3 7 7 9 4 3 4 0 2 7 9 7 7 7 8 1 2 0 6 0 6 4 7 5 3 4 5\n",
      " 1 1 9 7 4 3 9 6 4 3 3 6 6 9 1 4 8 7 0 0 7 5 2 4 7 0 9 6 4 8 6 7 7 3 8 7 9\n",
      " 9]\n",
      "0.874\n"
     ]
    }
   ],
   "source": [
    "y_predicted = model.predict(x_test)\n",
    "##print(y_predicted)\n",
    "accuracy = sklearn.metrics.accuracy_score(y_test, y_predicted)\n",
    "print(accuracy)"
   ]
  }
 ],
 "metadata": {
  "kernelspec": {
   "display_name": "Python 3",
   "language": "python",
   "name": "python3"
  },
  "language_info": {
   "codemirror_mode": {
    "name": "ipython",
    "version": 3
   },
   "file_extension": ".py",
   "mimetype": "text/x-python",
   "name": "python",
   "nbconvert_exporter": "python",
   "pygments_lexer": "ipython3",
   "version": "3.8.5"
  }
 },
 "nbformat": 4,
 "nbformat_minor": 5
}
