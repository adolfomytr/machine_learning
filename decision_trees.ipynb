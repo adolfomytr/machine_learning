{
 "cells": [
  {
   "cell_type": "markdown",
   "id": "korean-wednesday",
   "metadata": {},
   "source": [
    "# Decision Trees\n",
    "You should build a machine learning pipeline using a decision tree model. In particular, you should do the following:\n",
    "- Load the `mnist` dataset using [Pandas](https://pandas.pydata.org/docs/reference/api/pandas.read_csv.html). You can find this dataset in the datasets folder.\n",
    "- Split the dataset into training and test sets using [Scikit-Learn](https://scikit-learn.org/stable/modules/generated/sklearn.model_selection.train_test_split.html). \n",
    "- Train and test a decision tree model using [Scikit-Learn](https://scikit-learn.org/stable/modules/generated/sklearn.tree.DecisionTreeClassifier.html).\n",
    "- Check the documentation to identify the most important hyperparameters, attributes, and methods of the model. Use them in practice."
   ]
  },
  {
   "cell_type": "markdown",
   "id": "b6a16e6b",
   "metadata": {},
   "source": [
    "### Import libraries"
   ]
  },
  {
   "cell_type": "code",
   "execution_count": 104,
   "id": "infrared-copper",
   "metadata": {},
   "outputs": [],
   "source": [
    "import pandas as pd\n",
    "import sklearn.model_selection\n",
    "import sklearn.tree\n",
    "import sklearn.metrics\n"
   ]
  },
  {
   "cell_type": "markdown",
   "id": "08bc3b9a",
   "metadata": {},
   "source": [
    "### Import dataset"
   ]
  },
  {
   "cell_type": "code",
   "execution_count": 105,
   "id": "0f44a252",
   "metadata": {},
   "outputs": [
    {
     "data": {
      "text/html": [
       "<div>\n",
       "<style scoped>\n",
       "    .dataframe tbody tr th:only-of-type {\n",
       "        vertical-align: middle;\n",
       "    }\n",
       "\n",
       "    .dataframe tbody tr th {\n",
       "        vertical-align: top;\n",
       "    }\n",
       "\n",
       "    .dataframe thead th {\n",
       "        text-align: right;\n",
       "    }\n",
       "</style>\n",
       "<table border=\"1\" class=\"dataframe\">\n",
       "  <thead>\n",
       "    <tr style=\"text-align: right;\">\n",
       "      <th></th>\n",
       "      <th>class</th>\n",
       "      <th>pixel1</th>\n",
       "      <th>pixel2</th>\n",
       "      <th>pixel3</th>\n",
       "      <th>pixel4</th>\n",
       "      <th>pixel5</th>\n",
       "      <th>pixel6</th>\n",
       "      <th>pixel7</th>\n",
       "      <th>pixel8</th>\n",
       "      <th>pixel9</th>\n",
       "      <th>...</th>\n",
       "      <th>pixel775</th>\n",
       "      <th>pixel776</th>\n",
       "      <th>pixel777</th>\n",
       "      <th>pixel778</th>\n",
       "      <th>pixel779</th>\n",
       "      <th>pixel780</th>\n",
       "      <th>pixel781</th>\n",
       "      <th>pixel782</th>\n",
       "      <th>pixel783</th>\n",
       "      <th>pixel784</th>\n",
       "    </tr>\n",
       "    <tr>\n",
       "      <th>id</th>\n",
       "      <th></th>\n",
       "      <th></th>\n",
       "      <th></th>\n",
       "      <th></th>\n",
       "      <th></th>\n",
       "      <th></th>\n",
       "      <th></th>\n",
       "      <th></th>\n",
       "      <th></th>\n",
       "      <th></th>\n",
       "      <th></th>\n",
       "      <th></th>\n",
       "      <th></th>\n",
       "      <th></th>\n",
       "      <th></th>\n",
       "      <th></th>\n",
       "      <th></th>\n",
       "      <th></th>\n",
       "      <th></th>\n",
       "      <th></th>\n",
       "      <th></th>\n",
       "    </tr>\n",
       "  </thead>\n",
       "  <tbody>\n",
       "    <tr>\n",
       "      <th>31953</th>\n",
       "      <td>5</td>\n",
       "      <td>0</td>\n",
       "      <td>0</td>\n",
       "      <td>0</td>\n",
       "      <td>0</td>\n",
       "      <td>0</td>\n",
       "      <td>0</td>\n",
       "      <td>0</td>\n",
       "      <td>0</td>\n",
       "      <td>0</td>\n",
       "      <td>...</td>\n",
       "      <td>0</td>\n",
       "      <td>0</td>\n",
       "      <td>0</td>\n",
       "      <td>0</td>\n",
       "      <td>0</td>\n",
       "      <td>0</td>\n",
       "      <td>0</td>\n",
       "      <td>0</td>\n",
       "      <td>0</td>\n",
       "      <td>0</td>\n",
       "    </tr>\n",
       "    <tr>\n",
       "      <th>34452</th>\n",
       "      <td>8</td>\n",
       "      <td>0</td>\n",
       "      <td>0</td>\n",
       "      <td>0</td>\n",
       "      <td>0</td>\n",
       "      <td>0</td>\n",
       "      <td>0</td>\n",
       "      <td>0</td>\n",
       "      <td>0</td>\n",
       "      <td>0</td>\n",
       "      <td>...</td>\n",
       "      <td>0</td>\n",
       "      <td>0</td>\n",
       "      <td>0</td>\n",
       "      <td>0</td>\n",
       "      <td>0</td>\n",
       "      <td>0</td>\n",
       "      <td>0</td>\n",
       "      <td>0</td>\n",
       "      <td>0</td>\n",
       "      <td>0</td>\n",
       "    </tr>\n",
       "    <tr>\n",
       "      <th>60897</th>\n",
       "      <td>5</td>\n",
       "      <td>0</td>\n",
       "      <td>0</td>\n",
       "      <td>0</td>\n",
       "      <td>0</td>\n",
       "      <td>0</td>\n",
       "      <td>0</td>\n",
       "      <td>0</td>\n",
       "      <td>0</td>\n",
       "      <td>0</td>\n",
       "      <td>...</td>\n",
       "      <td>0</td>\n",
       "      <td>0</td>\n",
       "      <td>0</td>\n",
       "      <td>0</td>\n",
       "      <td>0</td>\n",
       "      <td>0</td>\n",
       "      <td>0</td>\n",
       "      <td>0</td>\n",
       "      <td>0</td>\n",
       "      <td>0</td>\n",
       "    </tr>\n",
       "    <tr>\n",
       "      <th>36953</th>\n",
       "      <td>0</td>\n",
       "      <td>0</td>\n",
       "      <td>0</td>\n",
       "      <td>0</td>\n",
       "      <td>0</td>\n",
       "      <td>0</td>\n",
       "      <td>0</td>\n",
       "      <td>0</td>\n",
       "      <td>0</td>\n",
       "      <td>0</td>\n",
       "      <td>...</td>\n",
       "      <td>0</td>\n",
       "      <td>0</td>\n",
       "      <td>0</td>\n",
       "      <td>0</td>\n",
       "      <td>0</td>\n",
       "      <td>0</td>\n",
       "      <td>0</td>\n",
       "      <td>0</td>\n",
       "      <td>0</td>\n",
       "      <td>0</td>\n",
       "    </tr>\n",
       "    <tr>\n",
       "      <th>1981</th>\n",
       "      <td>3</td>\n",
       "      <td>0</td>\n",
       "      <td>0</td>\n",
       "      <td>0</td>\n",
       "      <td>0</td>\n",
       "      <td>0</td>\n",
       "      <td>0</td>\n",
       "      <td>0</td>\n",
       "      <td>0</td>\n",
       "      <td>0</td>\n",
       "      <td>...</td>\n",
       "      <td>0</td>\n",
       "      <td>0</td>\n",
       "      <td>0</td>\n",
       "      <td>0</td>\n",
       "      <td>0</td>\n",
       "      <td>0</td>\n",
       "      <td>0</td>\n",
       "      <td>0</td>\n",
       "      <td>0</td>\n",
       "      <td>0</td>\n",
       "    </tr>\n",
       "  </tbody>\n",
       "</table>\n",
       "<p>5 rows × 785 columns</p>\n",
       "</div>"
      ],
      "text/plain": [
       "       class  pixel1  pixel2  pixel3  pixel4  pixel5  pixel6  pixel7  pixel8  \\\n",
       "id                                                                             \n",
       "31953      5       0       0       0       0       0       0       0       0   \n",
       "34452      8       0       0       0       0       0       0       0       0   \n",
       "60897      5       0       0       0       0       0       0       0       0   \n",
       "36953      0       0       0       0       0       0       0       0       0   \n",
       "1981       3       0       0       0       0       0       0       0       0   \n",
       "\n",
       "       pixel9  ...  pixel775  pixel776  pixel777  pixel778  pixel779  \\\n",
       "id             ...                                                     \n",
       "31953       0  ...         0         0         0         0         0   \n",
       "34452       0  ...         0         0         0         0         0   \n",
       "60897       0  ...         0         0         0         0         0   \n",
       "36953       0  ...         0         0         0         0         0   \n",
       "1981        0  ...         0         0         0         0         0   \n",
       "\n",
       "       pixel780  pixel781  pixel782  pixel783  pixel784  \n",
       "id                                                       \n",
       "31953         0         0         0         0         0  \n",
       "34452         0         0         0         0         0  \n",
       "60897         0         0         0         0         0  \n",
       "36953         0         0         0         0         0  \n",
       "1981          0         0         0         0         0  \n",
       "\n",
       "[5 rows x 785 columns]"
      ]
     },
     "execution_count": 105,
     "metadata": {},
     "output_type": "execute_result"
    }
   ],
   "source": [
    "mnist_db = pd.read_csv('/Users/adolfomytr/Documents/Alemania/Master/GISMA/Materias/teaching-main/datasets/mnist.csv')\n",
    "mnist_db = mnist_db.set_index('id')\n",
    "mnist_db.head()"
   ]
  },
  {
   "cell_type": "markdown",
   "id": "7272c095",
   "metadata": {},
   "source": [
    "### Split into training and testing datasets"
   ]
  },
  {
   "cell_type": "code",
   "execution_count": 106,
   "id": "2b4b4e37",
   "metadata": {},
   "outputs": [
    {
     "name": "stdout",
     "output_type": "stream",
     "text": [
      "mnist_db (4000, 785)\n",
      "x_train (3000, 784)\n",
      "x_test (1000, 784)\n",
      "y_train (3000,)\n",
      "y_test (1000,)\n"
     ]
    }
   ],
   "source": [
    "x = mnist_db.drop('class', axis=1)\n",
    "y = mnist_db['class']\n",
    "\n",
    "x_train, x_test, y_train, y_test = sklearn.model_selection.train_test_split(x, y)\n",
    "\n",
    "print('mnist_db', mnist_db.shape)\n",
    "print('x_train', x_train.shape)\n",
    "print('x_test', x_test.shape)\n",
    "print('y_train', y_train.shape)\n",
    "print('y_test', y_test.shape)"
   ]
  },
  {
   "cell_type": "markdown",
   "id": "1b76082b",
   "metadata": {},
   "source": [
    "### Training the model"
   ]
  },
  {
   "cell_type": "code",
   "execution_count": 107,
   "id": "b19ed1b2",
   "metadata": {},
   "outputs": [
    {
     "data": {
      "text/plain": [
       "DecisionTreeClassifier(criterion='entropy', max_depth=4)"
      ]
     },
     "execution_count": 107,
     "metadata": {},
     "output_type": "execute_result"
    }
   ],
   "source": [
    "model = sklearn.tree.DecisionTreeClassifier(criterion='entropy', max_depth=4)\n",
    "model.fit(x_train, y_train)\n"
   ]
  },
  {
   "cell_type": "markdown",
   "id": "4dc62a38",
   "metadata": {},
   "source": [
    "### Testing the model"
   ]
  },
  {
   "cell_type": "code",
   "execution_count": 108,
   "id": "3f26f011",
   "metadata": {},
   "outputs": [
    {
     "name": "stdout",
     "output_type": "stream",
     "text": [
      "0.635\n"
     ]
    }
   ],
   "source": [
    "y_predicted = model.predict(x_test)\n",
    "accuracy = sklearn.metrics.accuracy_score(y_test, y_predicted)\n",
    "print(accuracy)"
   ]
  },
  {
   "cell_type": "markdown",
   "id": "a7bca46f",
   "metadata": {},
   "source": [
    "### Visualize the decision tree"
   ]
  },
  {
   "cell_type": "code",
   "execution_count": 109,
   "id": "29d05f58",
   "metadata": {},
   "outputs": [
    {
     "data": {
      "text/plain": [
       "[Text(167.4, 195.696, 'X[568] <= 0.5\\nentropy = 3.315\\nsamples = 3000\\nvalue = [274, 370, 304, 308, 274, 267, 290, 314, 320, 279]\\nclass = y[1]'),\n",
       " Text(83.7, 152.208, 'X[430] <= 3.5\\nentropy = 3.085\\nsamples = 1800\\nvalue = [30, 312, 53, 168, 261, 106, 153, 304, 139, 274]\\nclass = y[1]'),\n",
       " Text(41.85, 108.72, 'X[405] <= 1.5\\nentropy = 2.561\\nsamples = 923\\nvalue = [11, 307, 32, 89, 18, 29, 15, 272, 96, 54]\\nclass = y[1]'),\n",
       " Text(20.925, 65.232, 'X[154] <= 0.5\\nentropy = 1.817\\nsamples = 371\\nvalue = [11, 8, 18, 27, 11, 10, 5, 254, 3, 24]\\nclass = y[7]'),\n",
       " Text(10.4625, 21.744, 'entropy = 1.07\\nsamples = 304\\nvalue = [5, 1, 4, 6, 6, 4, 2, 254, 1, 21]\\nclass = y[7]'),\n",
       " Text(31.387500000000003, 21.744, 'entropy = 2.792\\nsamples = 67\\nvalue = [6, 7, 14, 21, 5, 6, 3, 0, 2, 3]\\nclass = y[3]'),\n",
       " Text(62.775000000000006, 65.232, 'X[346] <= 1.0\\nentropy = 2.142\\nsamples = 552\\nvalue = [0, 299, 14, 62, 7, 19, 10, 18, 93, 30]\\nclass = y[1]'),\n",
       " Text(52.3125, 21.744, 'entropy = 1.492\\nsamples = 410\\nvalue = [0, 298, 13, 41, 1, 3, 10, 17, 26, 1]\\nclass = y[1]'),\n",
       " Text(73.2375, 21.744, 'entropy = 2.086\\nsamples = 142\\nvalue = [0, 1, 1, 21, 6, 16, 0, 1, 67, 29]\\nclass = y[8]'),\n",
       " Text(125.55000000000001, 108.72, 'X[542] <= 1.0\\nentropy = 2.733\\nsamples = 877\\nvalue = [19, 5, 21, 79, 243, 77, 138, 32, 43, 220]\\nclass = y[4]'),\n",
       " Text(104.625, 65.232, 'X[211] <= 3.0\\nentropy = 2.294\\nsamples = 632\\nvalue = [1, 4, 5, 73, 217, 63, 11, 29, 14, 215]\\nclass = y[4]'),\n",
       " Text(94.16250000000001, 21.744, 'entropy = 1.248\\nsamples = 214\\nvalue = [0, 0, 2, 4, 169, 10, 8, 12, 0, 9]\\nclass = y[4]'),\n",
       " Text(115.0875, 21.744, 'entropy = 2.208\\nsamples = 418\\nvalue = [1, 4, 3, 69, 48, 53, 3, 17, 14, 206]\\nclass = y[9]'),\n",
       " Text(146.475, 65.232, 'X[658] <= 46.5\\nentropy = 2.325\\nsamples = 245\\nvalue = [18, 1, 16, 6, 26, 14, 127, 3, 29, 5]\\nclass = y[6]'),\n",
       " Text(136.01250000000002, 21.744, 'entropy = 1.525\\nsamples = 177\\nvalue = [2, 0, 15, 0, 23, 9, 123, 1, 1, 3]\\nclass = y[6]'),\n",
       " Text(156.9375, 21.744, 'entropy = 2.522\\nsamples = 68\\nvalue = [16, 1, 1, 6, 3, 5, 4, 2, 28, 2]\\nclass = y[8]'),\n",
       " Text(251.10000000000002, 152.208, 'X[488] <= 4.5\\nentropy = 2.831\\nsamples = 1200\\nvalue = [244, 58, 251, 140, 13, 161, 137, 10, 181, 5]\\nclass = y[2]'),\n",
       " Text(209.25, 108.72, 'X[378] <= 0.5\\nentropy = 2.311\\nsamples = 614\\nvalue = [231, 4, 40, 131, 1, 136, 43, 1, 24, 3]\\nclass = y[0]'),\n",
       " Text(188.32500000000002, 65.232, 'X[463] <= 37.5\\nentropy = 1.377\\nsamples = 296\\nvalue = [217, 1, 24, 4, 1, 24, 24, 1, 0, 0]\\nclass = y[0]'),\n",
       " Text(177.8625, 21.744, 'entropy = 0.701\\nsamples = 230\\nvalue = [205, 0, 3, 4, 1, 13, 4, 0, 0, 0]\\nclass = y[0]'),\n",
       " Text(198.7875, 21.744, 'entropy = 2.109\\nsamples = 66\\nvalue = [12, 1, 21, 0, 0, 11, 20, 1, 0, 0]\\nclass = y[2]'),\n",
       " Text(230.175, 65.232, 'X[485] <= 70.0\\nentropy = 2.126\\nsamples = 318\\nvalue = [14, 3, 16, 127, 0, 112, 19, 0, 24, 3]\\nclass = y[3]'),\n",
       " Text(219.7125, 21.744, 'entropy = 1.485\\nsamples = 240\\nvalue = [6, 3, 3, 120, 0, 102, 2, 0, 1, 3]\\nclass = y[3]'),\n",
       " Text(240.63750000000002, 21.744, 'entropy = 2.458\\nsamples = 78\\nvalue = [8, 0, 13, 7, 0, 10, 17, 0, 23, 0]\\nclass = y[8]'),\n",
       " Text(292.95, 108.72, 'X[319] <= 9.5\\nentropy = 2.424\\nsamples = 586\\nvalue = [13, 54, 211, 9, 12, 25, 94, 9, 157, 2]\\nclass = y[2]'),\n",
       " Text(272.02500000000003, 65.232, 'X[154] <= 2.5\\nentropy = 1.786\\nsamples = 306\\nvalue = [2, 52, 191, 6, 1, 3, 20, 5, 25, 1]\\nclass = y[2]'),\n",
       " Text(261.5625, 21.744, 'entropy = 2.242\\nsamples = 110\\nvalue = [1, 52, 23, 1, 1, 3, 13, 4, 11, 1]\\nclass = y[1]'),\n",
       " Text(282.4875, 21.744, 'entropy = 0.847\\nsamples = 196\\nvalue = [1, 0, 168, 5, 0, 0, 7, 1, 14, 0]\\nclass = y[2]'),\n",
       " Text(313.875, 65.232, 'X[654] <= 3.5\\nentropy = 2.184\\nsamples = 280\\nvalue = [11, 2, 20, 3, 11, 22, 74, 4, 132, 1]\\nclass = y[8]'),\n",
       " Text(303.4125, 21.744, 'entropy = 1.961\\nsamples = 121\\nvalue = [2, 2, 14, 2, 9, 9, 74, 0, 8, 1]\\nclass = y[6]'),\n",
       " Text(324.33750000000003, 21.744, 'entropy = 1.247\\nsamples = 159\\nvalue = [9, 0, 6, 1, 2, 13, 0, 4, 124, 0]\\nclass = y[8]')]"
      ]
     },
     "execution_count": 109,
     "metadata": {},
     "output_type": "execute_result"
    },
    {
     "data": {
      "image/png": "[encoded data removed]",
      "text/plain": [
       "<Figure size 432x288 with 1 Axes>"
      ]
     },
     "metadata": {
      "needs_background": "light"
     },
     "output_type": "display_data"
    }
   ],
   "source": [
    "#sklearn.tree.plot_tree(model, max_depth=2)\n",
    "sklearn.tree.plot_tree(model, class_names=True)"
   ]
  }
 ],
 "metadata": {
  "kernelspec": {
   "display_name": "Python 3",
   "language": "python",
   "name": "python3"
  },
  "language_info": {
   "codemirror_mode": {
    "name": "ipython",
    "version": 3
   },
   "file_extension": ".py",
   "mimetype": "text/x-python",
   "name": "python",
   "nbconvert_exporter": "python",
   "pygments_lexer": "ipython3",
   "version": "3.8.5"
  }
 },
 "nbformat": 4,
 "nbformat_minor": 5
}
